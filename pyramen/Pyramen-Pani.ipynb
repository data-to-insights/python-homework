{
 "cells": [
  {
   "cell_type": "code",
   "execution_count": 1,
   "metadata": {},
   "outputs": [
    {
     "name": "stdout",
     "output_type": "stream",
     "text": [
      "['item', 'category', 'description', 'price', 'cost']\n",
      "['edamame', 'appetizers', 'boiled soybeans, maldon sea salt', '4', '1']\n",
      "['Line_Item_ID', 'Date', 'Credit_Card_Number', 'Quantity', 'Menu_Item']\n",
      "['1', '01-01-2017', '7437926611570799', '1', 'spicy miso ramen']\n"
     ]
    }
   ],
   "source": [
    "# Py Ramen - Pani Maddi\n",
    "# I read data from 2 csv files - sales_data and menu_data. Created a dictionary to include key information for Report out \n",
    "\n",
    "from pathlib import Path\n",
    "\n",
    "import csv\n",
    "\n",
    "pyramen_list = []\n",
    "\n",
    "with open(Path('menu_data.csv')) as csvfile:\n",
    "    readCSV = csv.reader(csvfile)   \n",
    "    header = next(readCSV)\n",
    "    for rows in readCSV:\n",
    "        pyramen_list.append(rows)\n",
    "    print(header)\n",
    "print(pyramen_list[0])   \n",
    "\n",
    "sales_list = []\n",
    "\n",
    "with open(Path('sales_data.csv')) as csvfile:\n",
    "    readCSV = csv.reader(csvfile)   \n",
    "    header = next(readCSV)\n",
    "    for rows2 in readCSV:\n",
    "        sales_list.append(rows2)\n",
    "    print(header)\n",
    "print(sales_list[0])   \n",
    "\n"
   ]
  },
  {
   "cell_type": "code",
   "execution_count": 2,
   "metadata": {},
   "outputs": [],
   "source": [
    "\n",
    "# Create report dictionary\n",
    "\n",
    "Report_out = {}\n",
    "\n",
    "# Read from sales data\n",
    "# Initiate variables for sales data\n",
    "\n",
    "Sale_item = 0\n",
    "Quantity = 0\n",
    "\n",
    "for x in sales_list:\n",
    "    Sale_item = x[4]\n",
    "    Quantity = int(x[3])   \n",
    "    if Sale_item not in Report_out.keys():\n",
    "        \n",
    "    # Create dictionary\n",
    "      Report_out[Sale_item] = {\n",
    "            \"01-count\": 0,\n",
    "            \"02-revenue\": 0,\n",
    "            \"03-cogs\": 0,\n",
    "            \"04-profit\": 0\n",
    "       }\n",
    "\n",
    "    # Read from menu data\n",
    "    # Initiate variables for menu data\n",
    "\n",
    "    Menu_item = 0\n",
    "    Price = 0\n",
    "    Cost = 0\n",
    "\n",
    "    for x in pyramen_list:\n",
    "        Menu_item = x[0]\n",
    "        Price = float(x[3])\n",
    "        Cost = float(x[4])\n",
    "        Profit = Price - Cost\n",
    "\n",
    "# Update dictionary\n",
    "\n",
    "    Report_out[Sale_item]['01-count']=Quantity\n",
    "    Report_out[Sale_item]['04-profit']=Profit*Quantity\n",
    "    Report_out[Sale_item]['01-count']=Quantity\n",
    "\n",
    "\n"
   ]
  },
  {
   "cell_type": "code",
   "execution_count": 3,
   "metadata": {},
   "outputs": [
    {
     "data": {
      "text/plain": [
       "{'spicy miso ramen': {'01-count': 2,\n",
       "  '02-revenue': 0,\n",
       "  '03-cogs': 0,\n",
       "  '04-profit': 6.0},\n",
       " 'tori paitan ramen': {'01-count': 1,\n",
       "  '02-revenue': 0,\n",
       "  '03-cogs': 0,\n",
       "  '04-profit': 3.0},\n",
       " 'truffle butter ramen': {'01-count': 1,\n",
       "  '02-revenue': 0,\n",
       "  '03-cogs': 0,\n",
       "  '04-profit': 3.0},\n",
       " 'tonkotsu ramen': {'01-count': 4,\n",
       "  '02-revenue': 0,\n",
       "  '03-cogs': 0,\n",
       "  '04-profit': 12.0},\n",
       " 'vegetarian spicy miso': {'01-count': 1,\n",
       "  '02-revenue': 0,\n",
       "  '03-cogs': 0,\n",
       "  '04-profit': 3.0},\n",
       " 'shio ramen': {'01-count': 1,\n",
       "  '02-revenue': 0,\n",
       "  '03-cogs': 0,\n",
       "  '04-profit': 3.0},\n",
       " 'miso crab ramen': {'01-count': 2,\n",
       "  '02-revenue': 0,\n",
       "  '03-cogs': 0,\n",
       "  '04-profit': 6.0},\n",
       " 'nagomi shoyu': {'01-count': 1,\n",
       "  '02-revenue': 0,\n",
       "  '03-cogs': 0,\n",
       "  '04-profit': 3.0},\n",
       " 'soft-shell miso crab ramen': {'01-count': 1,\n",
       "  '02-revenue': 0,\n",
       "  '03-cogs': 0,\n",
       "  '04-profit': 3.0},\n",
       " 'burnt garlic tonkotsu ramen': {'01-count': 1,\n",
       "  '02-revenue': 0,\n",
       "  '03-cogs': 0,\n",
       "  '04-profit': 3.0},\n",
       " 'vegetarian curry + king trumpet mushroom ramen': {'01-count': 1,\n",
       "  '02-revenue': 0,\n",
       "  '03-cogs': 0,\n",
       "  '04-profit': 3.0}}"
      ]
     },
     "execution_count": 3,
     "metadata": {},
     "output_type": "execute_result"
    }
   ],
   "source": [
    "Report_out"
   ]
  },
  {
   "cell_type": "code",
   "execution_count": null,
   "metadata": {},
   "outputs": [],
   "source": []
  }
 ],
 "metadata": {
  "kernelspec": {
   "display_name": "Python 3",
   "language": "python",
   "name": "python3"
  },
  "language_info": {
   "codemirror_mode": {
    "name": "ipython",
    "version": 3
   },
   "file_extension": ".py",
   "mimetype": "text/x-python",
   "name": "python",
   "nbconvert_exporter": "python",
   "pygments_lexer": "ipython3",
   "version": "3.7.4"
  }
 },
 "nbformat": 4,
 "nbformat_minor": 4
}
